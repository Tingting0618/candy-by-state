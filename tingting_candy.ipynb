{
 "cells": [
  {
   "cell_type": "code",
   "execution_count": 1,
   "metadata": {},
   "outputs": [],
   "source": [
    "import pandas as pd\n",
    "import re\n",
    "from ipywidgets import interact\n",
    "import ipywidgets as widgets\n",
    "import seaborn as sns\n",
    "import matplotlib.pyplot as plt\n",
    "%matplotlib inline"
   ]
  },
  {
   "cell_type": "markdown",
   "metadata": {},
   "source": [
    "2. Read in the candy data and look at the top 5 rows."
   ]
  },
  {
   "cell_type": "code",
   "execution_count": 2,
   "metadata": {},
   "outputs": [
    {
     "data": {
      "text/html": [
       "<div>\n",
       "<style scoped>\n",
       "    .dataframe tbody tr th:only-of-type {\n",
       "        vertical-align: middle;\n",
       "    }\n",
       "\n",
       "    .dataframe tbody tr th {\n",
       "        vertical-align: top;\n",
       "    }\n",
       "\n",
       "    .dataframe thead th {\n",
       "        text-align: right;\n",
       "    }\n",
       "</style>\n",
       "<table border=\"1\" class=\"dataframe\">\n",
       "  <thead>\n",
       "    <tr style=\"text-align: right;\">\n",
       "      <th></th>\n",
       "      <th>state</th>\n",
       "      <th>top_candy</th>\n",
       "      <th>top_candy_pounds</th>\n",
       "      <th>second_place</th>\n",
       "      <th>second_place_pounds</th>\n",
       "      <th>third_place</th>\n",
       "      <th>third_place_pounds</th>\n",
       "    </tr>\n",
       "  </thead>\n",
       "  <tbody>\n",
       "    <tr>\n",
       "      <th>0</th>\n",
       "      <td>Florida</td>\n",
       "      <td>Skittles</td>\n",
       "      <td>660000lbs</td>\n",
       "      <td>Snickers</td>\n",
       "      <td>543529lbs</td>\n",
       "      <td>Reese's Peanut Butter Cups</td>\n",
       "      <td>194117lbs</td>\n",
       "    </tr>\n",
       "    <tr>\n",
       "      <th>1</th>\n",
       "      <td>Kansas</td>\n",
       "      <td>M&amp;M's</td>\n",
       "      <td>247500lbs</td>\n",
       "      <td>Reese's Peanut Butter Cups</td>\n",
       "      <td>210375lbs</td>\n",
       "      <td>Dubble Bubble Gum</td>\n",
       "      <td>111375lbs</td>\n",
       "    </tr>\n",
       "    <tr>\n",
       "      <th>2</th>\n",
       "      <td>New York</td>\n",
       "      <td>Sour Patch Kids</td>\n",
       "      <td>198016lbs</td>\n",
       "      <td>Candy Corn</td>\n",
       "      <td>95047lbs</td>\n",
       "      <td>Reese's Peanut Butter Cups</td>\n",
       "      <td>39603lbs</td>\n",
       "    </tr>\n",
       "    <tr>\n",
       "      <th>3</th>\n",
       "      <td>Washington</td>\n",
       "      <td>Salt Water Taffy</td>\n",
       "      <td>207900lbs</td>\n",
       "      <td>Tootsie Pops</td>\n",
       "      <td>171211lbs</td>\n",
       "      <td>Hershey Kisses</td>\n",
       "      <td>61147lbs</td>\n",
       "    </tr>\n",
       "    <tr>\n",
       "      <th>4</th>\n",
       "      <td>California</td>\n",
       "      <td>Assorted Salt Water Taffy</td>\n",
       "      <td>1650000lbs</td>\n",
       "      <td>M&amp;M's</td>\n",
       "      <td>1188000lbs</td>\n",
       "      <td>Skittles</td>\n",
       "      <td>726000lbs</td>\n",
       "    </tr>\n",
       "  </tbody>\n",
       "</table>\n",
       "</div>"
      ],
      "text/plain": [
       "        state                  top_candy top_candy_pounds  \\\n",
       "0     Florida                   Skittles        660000lbs   \n",
       "1      Kansas                      M&M's        247500lbs   \n",
       "2    New York            Sour Patch Kids        198016lbs   \n",
       "3  Washington           Salt Water Taffy        207900lbs   \n",
       "4  California  Assorted Salt Water Taffy       1650000lbs   \n",
       "\n",
       "                 second_place second_place_pounds                 third_place  \\\n",
       "0                    Snickers           543529lbs  Reese's Peanut Butter Cups   \n",
       "1  Reese's Peanut Butter Cups           210375lbs           Dubble Bubble Gum   \n",
       "2                  Candy Corn            95047lbs  Reese's Peanut Butter Cups   \n",
       "3                Tootsie Pops           171211lbs              Hershey Kisses   \n",
       "4                       M&M's          1188000lbs                    Skittles   \n",
       "\n",
       "  third_place_pounds  \n",
       "0          194117lbs  \n",
       "1          111375lbs  \n",
       "2           39603lbs  \n",
       "3           61147lbs  \n",
       "4          726000lbs  "
      ]
     },
     "execution_count": 2,
     "metadata": {},
     "output_type": "execute_result"
    }
   ],
   "source": [
    "candy = pd.read_csv('data/top_halloween_candy.csv',sep = ',')\n",
    "candy.head(5)"
   ]
  },
  {
   "cell_type": "markdown",
   "metadata": {},
   "source": [
    "3. Clean up the `top_candy_pounds`, `second_place_pounds`, and `third_place_pounds` columns by removing the \"lbs\" at the end and converting to a numeric type."
   ]
  },
  {
   "cell_type": "code",
   "execution_count": 3,
   "metadata": {},
   "outputs": [],
   "source": [
    "def get_quan(num):\n",
    "    try:\n",
    "        return float(re.sub('lbs',\"\",num))\n",
    "    except:\n",
    "        return None"
   ]
  },
  {
   "cell_type": "code",
   "execution_count": 4,
   "metadata": {},
   "outputs": [],
   "source": [
    "def clean_data(df):\n",
    "    df[\"top_candy_pounds\"] = [get_quan(num) for num in candy.top_candy_pounds]\n",
    "    df[\"second_place_pounds\"] = [get_quan(num) for num in candy.second_place_pounds]\n",
    "    df[\"third_place_pounds\"] = [get_quan(num) for num in candy.third_place_pounds]\n",
    "    return df"
   ]
  },
  {
   "cell_type": "code",
   "execution_count": 5,
   "metadata": {},
   "outputs": [],
   "source": [
    "candy = clean_data(candy)"
   ]
  },
  {
   "cell_type": "markdown",
   "metadata": {},
   "source": [
    "4. Create a visualization (your choice) to show the top 3 candies for the state of Tennessee. **Optional Bonus:** Make a widget that allows the user to choose a state and have the visualization update to show the top three candies for the chosen state."
   ]
  },
  {
   "cell_type": "code",
   "execution_count": 6,
   "metadata": {},
   "outputs": [
    {
     "data": {
      "application/vnd.jupyter.widget-view+json": {
       "model_id": "53704e26d7f54cf7a2441ce21b08e2d1",
       "version_major": 2,
       "version_minor": 0
      },
      "text/plain": [
       "interactive(children=(Dropdown(description='state', options=('Alabama', 'Alaska', 'Arizona', 'Arkansas', 'Cali…"
      ]
     },
     "metadata": {},
     "output_type": "display_data"
    }
   ],
   "source": [
    "@interact(state = candy.state.sort_values())\n",
    "\n",
    "def make_plot(state):\n",
    "    candy_sub = candy[candy.state == state]\n",
    "    candy_sub.set_index(['state'],inplace = True)\n",
    "    candy_sub.plot(kind='barh',title = \"Top 3 Candies by Quantity - \"+state+\" (lbs)\");\n"
   ]
  },
  {
   "cell_type": "markdown",
   "metadata": {},
   "source": [
    "5. Create a new column, `total_pounds`, to show the combined weight of 1st, 2nd, and 3rd place candies consumed per state."
   ]
  },
  {
   "cell_type": "code",
   "execution_count": 7,
   "metadata": {},
   "outputs": [],
   "source": [
    "candy[\"total_pounds\"]=candy[['top_candy_pounds','second_place_pounds','third_place_pounds']].sum(axis=1)"
   ]
  },
  {
   "cell_type": "markdown",
   "metadata": {},
   "source": [
    "6. Which state consumes the most of its 1st, 2nd, and 3rd place candies combined (greatest combined weight)?\n",
    "\n",
    "    The result shows **California** consumes the most of its 1st, 2nd, and 3rd place candies combined (greatest combined weight)."
   ]
  },
  {
   "cell_type": "code",
   "execution_count": 8,
   "metadata": {},
   "outputs": [
    {
     "data": {
      "text/html": [
       "<div>\n",
       "<style scoped>\n",
       "    .dataframe tbody tr th:only-of-type {\n",
       "        vertical-align: middle;\n",
       "    }\n",
       "\n",
       "    .dataframe tbody tr th {\n",
       "        vertical-align: top;\n",
       "    }\n",
       "\n",
       "    .dataframe thead th {\n",
       "        text-align: right;\n",
       "    }\n",
       "</style>\n",
       "<table border=\"1\" class=\"dataframe\">\n",
       "  <thead>\n",
       "    <tr style=\"text-align: right;\">\n",
       "      <th></th>\n",
       "      <th>state</th>\n",
       "      <th>top_candy</th>\n",
       "      <th>top_candy_pounds</th>\n",
       "      <th>second_place</th>\n",
       "      <th>second_place_pounds</th>\n",
       "      <th>third_place</th>\n",
       "      <th>third_place_pounds</th>\n",
       "      <th>total_pounds</th>\n",
       "    </tr>\n",
       "  </thead>\n",
       "  <tbody>\n",
       "    <tr>\n",
       "      <th>4</th>\n",
       "      <td>California</td>\n",
       "      <td>Assorted Salt Water Taffy</td>\n",
       "      <td>1650000.0</td>\n",
       "      <td>M&amp;M's</td>\n",
       "      <td>1188000.0</td>\n",
       "      <td>Skittles</td>\n",
       "      <td>726000.0</td>\n",
       "      <td>3564000.0</td>\n",
       "    </tr>\n",
       "  </tbody>\n",
       "</table>\n",
       "</div>"
      ],
      "text/plain": [
       "        state                  top_candy  top_candy_pounds second_place  \\\n",
       "4  California  Assorted Salt Water Taffy         1650000.0        M&M's   \n",
       "\n",
       "   second_place_pounds third_place  third_place_pounds  total_pounds  \n",
       "4            1188000.0    Skittles            726000.0     3564000.0  "
      ]
     },
     "execution_count": 8,
     "metadata": {},
     "output_type": "execute_result"
    }
   ],
   "source": [
    "top_state = candy.sort_values(by=[\"total_pounds\"],ascending=False).head(1)\n",
    "top_state"
   ]
  },
  {
   "cell_type": "markdown",
   "metadata": {},
   "source": [
    "7. Read in the population data and merge it with the candy data."
   ]
  },
  {
   "cell_type": "code",
   "execution_count": 9,
   "metadata": {},
   "outputs": [],
   "source": [
    "population_est2017 = pd.read_csv('data/population_est2017.csv',sep = ',')\n",
    "data = pd.merge (candy,population_est2017,left_on=\"state\",right_on=\"NAME\")"
   ]
  },
  {
   "cell_type": "markdown",
   "metadata": {},
   "source": [
    "8. Calculate a new column, `per_capita` to show the average weight of 1st, 2nd, and 3rd place candies (combined) consumed per person in each state."
   ]
  },
  {
   "cell_type": "code",
   "execution_count": 10,
   "metadata": {},
   "outputs": [],
   "source": [
    "data[\"per_capita\"]= data[\"total_pounds\"]/data[\"POPESTIMATE2017\"]"
   ]
  },
  {
   "cell_type": "markdown",
   "metadata": {},
   "source": [
    "9. Create a histogram showing the distribution of `per_capita` values by state."
   ]
  },
  {
   "cell_type": "code",
   "execution_count": 11,
   "metadata": {},
   "outputs": [
    {
     "data": {
      "image/png": "[encoded data removed]",
      "text/plain": [
       "<Figure size 432x288 with 1 Axes>"
      ]
     },
     "metadata": {
      "needs_background": "light"
     },
     "output_type": "display_data"
    }
   ],
   "source": [
    "ax = data[\"per_capita\"].plot.hist(bins=40,alpha=0.8,title=\"Distribution: Candy_per_capita by State\")"
   ]
  },
  {
   "cell_type": "markdown",
   "metadata": {},
   "source": [
    "10. Which state has the greatest consumption of its 1st, 2nd, and 3rd place candies per capita?\n",
    "    \n",
    "    The result shows **Hawaii** has the greatest consumption of its 1st, 2nd, and 3rd place candies per capita."
   ]
  },
  {
   "cell_type": "code",
   "execution_count": 12,
   "metadata": {},
   "outputs": [
    {
     "data": {
      "text/html": [
       "<div>\n",
       "<style scoped>\n",
       "    .dataframe tbody tr th:only-of-type {\n",
       "        vertical-align: middle;\n",
       "    }\n",
       "\n",
       "    .dataframe tbody tr th {\n",
       "        vertical-align: top;\n",
       "    }\n",
       "\n",
       "    .dataframe thead th {\n",
       "        text-align: right;\n",
       "    }\n",
       "</style>\n",
       "<table border=\"1\" class=\"dataframe\">\n",
       "  <thead>\n",
       "    <tr style=\"text-align: right;\">\n",
       "      <th></th>\n",
       "      <th>state</th>\n",
       "      <th>top_candy</th>\n",
       "      <th>top_candy_pounds</th>\n",
       "      <th>second_place</th>\n",
       "      <th>second_place_pounds</th>\n",
       "      <th>third_place</th>\n",
       "      <th>third_place_pounds</th>\n",
       "      <th>total_pounds</th>\n",
       "      <th>NAME</th>\n",
       "      <th>POPESTIMATE2017</th>\n",
       "      <th>per_capita</th>\n",
       "    </tr>\n",
       "  </thead>\n",
       "  <tbody>\n",
       "    <tr>\n",
       "      <th>47</th>\n",
       "      <td>Hawaii</td>\n",
       "      <td>Hershey Kisses</td>\n",
       "      <td>271042.0</td>\n",
       "      <td>Hawaiian Host</td>\n",
       "      <td>255984.0</td>\n",
       "      <td>Milky Way</td>\n",
       "      <td>105405.0</td>\n",
       "      <td>632431.0</td>\n",
       "      <td>Hawaii</td>\n",
       "      <td>1427538</td>\n",
       "      <td>0.443022</td>\n",
       "    </tr>\n",
       "  </tbody>\n",
       "</table>\n",
       "</div>"
      ],
      "text/plain": [
       "     state       top_candy  top_candy_pounds   second_place  \\\n",
       "47  Hawaii  Hershey Kisses          271042.0  Hawaiian Host   \n",
       "\n",
       "    second_place_pounds third_place  third_place_pounds  total_pounds    NAME  \\\n",
       "47             255984.0   Milky Way            105405.0      632431.0  Hawaii   \n",
       "\n",
       "    POPESTIMATE2017  per_capita  \n",
       "47          1427538    0.443022  "
      ]
     },
     "execution_count": 12,
     "metadata": {},
     "output_type": "execute_result"
    }
   ],
   "source": [
    "top_state_per_capita = data.sort_values(by=[\"per_capita\"],ascending=False).head(1)\n",
    "top_state_per_capita"
   ]
  },
  {
   "cell_type": "markdown",
   "metadata": {},
   "source": [
    "11. For this state, what is the consumption per capita of *each* of the top-3 candies?\n",
    "\n",
    "The consumption per capita of *each* of the top-3 candies is **0.189, 0.179, 0.074 in Hawaii**. "
   ]
  },
  {
   "cell_type": "code",
   "execution_count": 13,
   "metadata": {},
   "outputs": [
    {
     "data": {
      "text/html": [
       "<div>\n",
       "<style scoped>\n",
       "    .dataframe tbody tr th:only-of-type {\n",
       "        vertical-align: middle;\n",
       "    }\n",
       "\n",
       "    .dataframe tbody tr th {\n",
       "        vertical-align: top;\n",
       "    }\n",
       "\n",
       "    .dataframe thead th {\n",
       "        text-align: right;\n",
       "    }\n",
       "</style>\n",
       "<table border=\"1\" class=\"dataframe\">\n",
       "  <thead>\n",
       "    <tr style=\"text-align: right;\">\n",
       "      <th></th>\n",
       "      <th>state</th>\n",
       "      <th>top_candy</th>\n",
       "      <th>top_candy_pounds</th>\n",
       "      <th>second_place</th>\n",
       "      <th>second_place_pounds</th>\n",
       "      <th>third_place</th>\n",
       "      <th>third_place_pounds</th>\n",
       "      <th>total_pounds</th>\n",
       "      <th>NAME</th>\n",
       "      <th>POPESTIMATE2017</th>\n",
       "      <th>per_capita</th>\n",
       "      <th>top_per_capita</th>\n",
       "      <th>sec_per_capita</th>\n",
       "      <th>third_per_capita</th>\n",
       "    </tr>\n",
       "  </thead>\n",
       "  <tbody>\n",
       "    <tr>\n",
       "      <th>47</th>\n",
       "      <td>Hawaii</td>\n",
       "      <td>Hershey Kisses</td>\n",
       "      <td>271042.0</td>\n",
       "      <td>Hawaiian Host</td>\n",
       "      <td>255984.0</td>\n",
       "      <td>Milky Way</td>\n",
       "      <td>105405.0</td>\n",
       "      <td>632431.0</td>\n",
       "      <td>Hawaii</td>\n",
       "      <td>1427538</td>\n",
       "      <td>0.443022</td>\n",
       "      <td>0.189867</td>\n",
       "      <td>0.179319</td>\n",
       "      <td>0.073837</td>\n",
       "    </tr>\n",
       "  </tbody>\n",
       "</table>\n",
       "</div>"
      ],
      "text/plain": [
       "     state       top_candy  top_candy_pounds   second_place  \\\n",
       "47  Hawaii  Hershey Kisses          271042.0  Hawaiian Host   \n",
       "\n",
       "    second_place_pounds third_place  third_place_pounds  total_pounds    NAME  \\\n",
       "47             255984.0   Milky Way            105405.0      632431.0  Hawaii   \n",
       "\n",
       "    POPESTIMATE2017  per_capita  top_per_capita  sec_per_capita  \\\n",
       "47          1427538    0.443022        0.189867        0.179319   \n",
       "\n",
       "    third_per_capita  \n",
       "47          0.073837  "
      ]
     },
     "execution_count": 13,
     "metadata": {},
     "output_type": "execute_result"
    }
   ],
   "source": [
    "top_state_per_capita[\"top_per_capita\"]=top_state_per_capita[\"top_candy_pounds\"]/top_state_per_capita[\"POPESTIMATE2017\"]\n",
    "top_state_per_capita[\"sec_per_capita\"]=top_state_per_capita[\"second_place_pounds\"]/top_state_per_capita[\"POPESTIMATE2017\"]\n",
    "top_state_per_capita[\"third_per_capita\"]=top_state_per_capita[\"third_place_pounds\"]/top_state_per_capita[\"POPESTIMATE2017\"]\n",
    "top_state_per_capita"
   ]
  },
  {
   "cell_type": "markdown",
   "metadata": {},
   "source": [
    "12. Find the five candies that show up most frequently (1st, 2nd, and 3rd places combined) in the dataset. Create a bar plot to show the number of times these five candies appear in the dataset."
   ]
  },
  {
   "cell_type": "code",
   "execution_count": 14,
   "metadata": {},
   "outputs": [
    {
     "data": {
      "text/plain": [
       "Text(0,0.5,'Top 5 Brand')"
      ]
     },
     "execution_count": 14,
     "metadata": {},
     "output_type": "execute_result"
    },
    {
     "data": {
      "image/png": "[encoded data removed]",
      "text/plain": [
       "<Figure size 576x288 with 1 Axes>"
      ]
     },
     "metadata": {
      "needs_background": "light"
     },
     "output_type": "display_data"
    }
   ],
   "source": [
    "top = candy[\"top_candy\"].tolist()\n",
    "sec = candy[\"second_place\"].tolist()\n",
    "third = candy[\"third_place\"].tolist()\n",
    "brand = top+sec+third\n",
    "\n",
    "brand=pd.DataFrame(brand,columns = [\"brand\"]).reset_index()\n",
    "\n",
    "top5_brand=brand.groupby(by=[\"brand\"]).count().reset_index().sort_values(by='index',ascending = False).rename(columns={\"index\": \"count\"}).reset_index(drop=True).head(5)\n",
    "\n",
    "f, ax = plt.subplots(figsize=(8, 4))\n",
    "sns.set_color_codes(\"pastel\")\n",
    "ax = sns.barplot(x=\"count\", y=\"brand\", data=top5_brand,color=\"b\")\n",
    "ax.set_xlabel('Total Count')\n",
    "ax.set_ylabel('Top 5 Brand')"
   ]
  },
  {
   "cell_type": "markdown",
   "metadata": {},
   "source": [
    "13. Find all unique candies -- those that appear in a state's top-3 list but _do not_ appear in any other state's list. Report both the candy name and the state in whose list it appears.\n",
    "\n",
    "    The unique brands that appeared once are **Life Savers, Hawaiian Host, Swedish Fish, and Assorted Salt Water Taffy**."
   ]
  },
  {
   "cell_type": "code",
   "execution_count": 15,
   "metadata": {},
   "outputs": [
    {
     "data": {
      "text/plain": [
       "['Life Savers', 'Hawaiian Host', 'Swedish Fish', 'Assorted Salt Water Taffy']"
      ]
     },
     "execution_count": 15,
     "metadata": {},
     "output_type": "execute_result"
    }
   ],
   "source": [
    "df = brand.groupby(by=[\"brand\"]).count().reset_index().sort_values(by='index',ascending = False).rename(columns={\"index\": \"count\"}).reset_index(drop=True)\n",
    "onetime = df[df[\"count\"] == 1]\n",
    "onetime_brand = onetime[\"brand\"]\n",
    "onetime_brand = onetime_brand.reset_index(drop=True).tolist()\n",
    "onetime_brand"
   ]
  },
  {
   "cell_type": "markdown",
   "metadata": {},
   "source": [
    "Those unique brands exist in the below states: **California, Georgia, Delaware, and Hawaii**"
   ]
  },
  {
   "cell_type": "code",
   "execution_count": 16,
   "metadata": {},
   "outputs": [
    {
     "data": {
      "text/html": [
       "<div>\n",
       "<style scoped>\n",
       "    .dataframe tbody tr th:only-of-type {\n",
       "        vertical-align: middle;\n",
       "    }\n",
       "\n",
       "    .dataframe tbody tr th {\n",
       "        vertical-align: top;\n",
       "    }\n",
       "\n",
       "    .dataframe thead th {\n",
       "        text-align: right;\n",
       "    }\n",
       "</style>\n",
       "<table border=\"1\" class=\"dataframe\">\n",
       "  <thead>\n",
       "    <tr style=\"text-align: right;\">\n",
       "      <th></th>\n",
       "      <th>state</th>\n",
       "      <th>top_candy</th>\n",
       "      <th>second_place</th>\n",
       "      <th>third_place</th>\n",
       "    </tr>\n",
       "  </thead>\n",
       "  <tbody>\n",
       "    <tr>\n",
       "      <th>4</th>\n",
       "      <td>California</td>\n",
       "      <td>Assorted Salt Water Taffy</td>\n",
       "      <td>M&amp;M's</td>\n",
       "      <td>Skittles</td>\n",
       "    </tr>\n",
       "    <tr>\n",
       "      <th>8</th>\n",
       "      <td>Georgia</td>\n",
       "      <td>Swedish Fish</td>\n",
       "      <td>Hershey Kisses</td>\n",
       "      <td>Lemonheads</td>\n",
       "    </tr>\n",
       "    <tr>\n",
       "      <th>39</th>\n",
       "      <td>Delaware</td>\n",
       "      <td>Life Savers</td>\n",
       "      <td>Skittles</td>\n",
       "      <td>Candy Corn</td>\n",
       "    </tr>\n",
       "    <tr>\n",
       "      <th>47</th>\n",
       "      <td>Hawaii</td>\n",
       "      <td>Hershey Kisses</td>\n",
       "      <td>Hawaiian Host</td>\n",
       "      <td>Milky Way</td>\n",
       "    </tr>\n",
       "  </tbody>\n",
       "</table>\n",
       "</div>"
      ],
      "text/plain": [
       "         state                  top_candy    second_place third_place\n",
       "4   California  Assorted Salt Water Taffy           M&M's    Skittles\n",
       "8      Georgia               Swedish Fish  Hershey Kisses  Lemonheads\n",
       "39    Delaware                Life Savers        Skittles  Candy Corn\n",
       "47      Hawaii             Hershey Kisses   Hawaiian Host   Milky Way"
      ]
     },
     "execution_count": 16,
     "metadata": {},
     "output_type": "execute_result"
    }
   ],
   "source": [
    "state1 = data[data[\"top_candy\"].isin(onetime_brand)]\n",
    "state2 = data[data[\"second_place\"].isin(onetime_brand)]\n",
    "state3 = data[data[\"third_place\"].isin(onetime_brand)]\n",
    "\n",
    "frames = [state1, state2, state3]\n",
    "result = pd.concat(frames)\n",
    "result1= result[['state','top_candy','second_place','third_place']]\n",
    "result1"
   ]
  },
  {
   "cell_type": "code",
   "execution_count": null,
   "metadata": {},
   "outputs": [],
   "source": []
  }
 ],
 "metadata": {
  "kernelspec": {
   "display_name": "Python 3",
   "language": "python",
   "name": "python3"
  },
  "language_info": {
   "codemirror_mode": {
    "name": "ipython",
    "version": 3
   },
   "file_extension": ".py",
   "mimetype": "text/x-python",
   "name": "python",
   "nbconvert_exporter": "python",
   "pygments_lexer": "ipython3",
   "version": "3.7.1"
  }
 },
 "nbformat": 4,
 "nbformat_minor": 2
}
